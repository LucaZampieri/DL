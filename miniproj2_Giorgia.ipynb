{
 "cells": [
  {
   "cell_type": "code",
   "execution_count": 2,
   "metadata": {},
   "outputs": [],
   "source": [
    "import torch\n",
    "from torch import Tensor\n",
    "import numpy as np\n",
    "import math"
   ]
  },
  {
   "cell_type": "markdown",
   "metadata": {},
   "source": [
    "## Framework"
   ]
  },
  {
   "cell_type": "code",
   "execution_count": 3,
   "metadata": {},
   "outputs": [],
   "source": [
    "def sigma(x):\n",
    "    return x.tanh()\n",
    "\n",
    "def dsigma(x):\n",
    "    return 1-torch.tanh(x).pow(2)"
   ]
  },
  {
   "cell_type": "code",
   "execution_count": 10,
   "metadata": {},
   "outputs": [],
   "source": [
    "def ReLU(x):\n",
    "    return max(0,x)"
   ]
  },
  {
   "cell_type": "code",
   "execution_count": null,
   "metadata": {},
   "outputs": [],
   "source": []
  },
  {
   "cell_type": "markdown",
   "metadata": {},
   "source": [
    "## Training set and test set"
   ]
  },
  {
   "cell_type": "code",
   "execution_count": 67,
   "metadata": {},
   "outputs": [],
   "source": [
    "radius = 1/np.sqrt(2*np.pi)"
   ]
  },
  {
   "cell_type": "code",
   "execution_count": 87,
   "metadata": {},
   "outputs": [
    {
     "name": "stdout",
     "output_type": "stream",
     "text": [
      "\n",
      " 0.0794  0.5821\n",
      " 0.5997  0.5848\n",
      " 0.6729  0.9692\n",
      "       ⋮        \n",
      " 0.5622  0.5047\n",
      " 0.1382  0.5621\n",
      " 0.6949  0.7741\n",
      "[torch.FloatTensor of size 1000x2]\n",
      " \n",
      " 0.6357\n",
      " 0.9473\n",
      " 0.6083\n",
      "   ⋮   \n",
      " 0.5096\n",
      " 0.9467\n",
      " 0.3996\n",
      "[torch.FloatTensor of size 1000]\n",
      " \n",
      " 0\n",
      " 0\n",
      " 0\n",
      "⋮ \n",
      " 0\n",
      " 0\n",
      " 0\n",
      "[torch.FloatTensor of size 1000]\n",
      "\n"
     ]
    }
   ],
   "source": [
    "nb_points = 1000\n",
    "train_input = Tensor(nb_points,2).uniform_(0,1)\n",
    "ratio = torch.floor(torch.norm(train_input,p=2,dim=1)/radius)\n",
    "train_target = 1-torch.clamp(ratio,min=0,max=1)\n",
    "print(test_input,torch.norm(train_input,p=2,dim=1), train_target)"
   ]
  },
  {
   "cell_type": "code",
   "execution_count": 59,
   "metadata": {},
   "outputs": [
    {
     "name": "stdout",
     "output_type": "stream",
     "text": [
      "\n",
      " 0  2\n",
      " 3  3\n",
      "[torch.FloatTensor of size 2x2]\n",
      " \n",
      " 2.0000\n",
      " 4.2426\n",
      "[torch.FloatTensor of size 2]\n",
      " \n",
      "-1\n",
      "-3\n",
      "[torch.FloatTensor of size 2]\n",
      "\n"
     ]
    }
   ],
   "source": [
    "x = Tensor([[0,2],[3,3]])\n",
    "dist = torch.norm(x,p=2,dim=1)\n",
    "y = 1-torch.floor(dist)\n",
    "print(x, dist,y)"
   ]
  },
  {
   "cell_type": "code",
   "execution_count": 82,
   "metadata": {},
   "outputs": [
    {
     "name": "stdout",
     "output_type": "stream",
     "text": [
      "\n",
      " 5\n",
      " 6\n",
      "[torch.FloatTensor of size 2]\n",
      "\n"
     ]
    }
   ],
   "source": [
    "x = Tensor([3,6])\n",
    "y = torch.clamp(x,min=5, max=7)\n",
    "print(y)"
   ]
  },
  {
   "cell_type": "code",
   "execution_count": null,
   "metadata": {},
   "outputs": [],
   "source": []
  }
 ],
 "metadata": {
  "kernelspec": {
   "display_name": "Python 3",
   "language": "python",
   "name": "python3"
  },
  "language_info": {
   "codemirror_mode": {
    "name": "ipython",
    "version": 3
   },
   "file_extension": ".py",
   "mimetype": "text/x-python",
   "name": "python",
   "nbconvert_exporter": "python",
   "pygments_lexer": "ipython3",
   "version": "3.6.3"
  }
 },
 "nbformat": 4,
 "nbformat_minor": 2
}
