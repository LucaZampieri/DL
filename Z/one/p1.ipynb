{
 "cells": [
  {
   "cell_type": "markdown",
   "metadata": {},
   "source": [
    "# TO DO'S\n",
    "\n",
    " - Data augmentation\n",
    "     - shift\n",
    "     - mirror?? (maybe not)\n",
    "     - PCA? (why not)\n",
    " - reduce overfitting\n",
    " - if outliers use robust_scale of skipy\n",
    " - check http://contrib.scikit-learn.org/imbalanced-learn/stable/over_sampling.html"
   ]
  },
  {
   "cell_type": "code",
   "execution_count": 1,
   "metadata": {
    "collapsed": true,
    "scrolled": false
   },
   "outputs": [],
   "source": [
    "import torch\n",
    "import math\n",
    "\n",
    "from torch import Tensor\n",
    "from torch import optim\n",
    "from torch import nn\n",
    "from torch.autograd import Variable\n",
    "from torch.nn import functional as F\n",
    "from torch import nn\n",
    "# for plots\n",
    "from matplotlib import pyplot as plt\n",
    "# for progress bar\n",
    "from tqdm import tqdm, trange\n",
    "# from the same folder:\n",
    "import dlc_bci as bci\n",
    "from models import *\n",
    "import helpers\n",
    "import antoine_models as ant\n",
    "import luca_models as lm\n",
    "# easier matrix manipulations\n",
    "import numpy as np\n",
    "\n",
    "SEED = 50\n",
    "\n",
    "# IPython magics\n",
    "%load_ext autoreload\n",
    "%autoreload 2"
   ]
  },
  {
   "cell_type": "markdown",
   "metadata": {},
   "source": [
    "# Parameters"
   ]
  },
  {
   "cell_type": "code",
   "execution_count": 93,
   "metadata": {
    "collapsed": true
   },
   "outputs": [],
   "source": [
    "# PARAMETERS\n",
    "CRIT = 'cross' # 'MSE'\n",
    "HD_SIGNAL = True\n",
    "SIGNAL_LENGTH = 500 # correspond to HD_SIGNAL = True usually\n",
    "\n",
    "noise_DA = False\n",
    "subsampling_DA = False\n",
    "if subsampling_DA == True:\n",
    "    SIGNAL_LENGTH = 50\n",
    "\n",
    "n_splits_K_fold = 2"
   ]
  },
  {
   "cell_type": "markdown",
   "metadata": {},
   "source": [
    "### Get data"
   ]
  },
  {
   "cell_type": "code",
   "execution_count": 94,
   "metadata": {},
   "outputs": [
    {
     "name": "stdout",
     "output_type": "stream",
     "text": [
      "<class 'torch.FloatTensor'> torch.Size([316, 28, 500])\n",
      "<class 'torch.LongTensor'> torch.Size([316])\n",
      "<class 'torch.FloatTensor'> torch.Size([100, 28, 500])\n",
      "<class 'torch.LongTensor'> torch.Size([100])\n",
      "train --- mean 24.05, std: 41.53 target mean:  0.49683544303797467\n",
      "test --- mean 21.69, std: 40.85 target mean:  0.51\n",
      "KFold with K= 2\n",
      ":::::::::::::::::::::::::::::::::::::::::::::::::::::::::::::::::\n",
      "train_input:  <class 'torch.autograd.variable.Variable'> torch.Size([316, 28, 500])\n",
      "train_target:  <class 'torch.autograd.variable.Variable'> torch.Size([316])\n",
      "\n",
      "----------------------------------------------------------------\n",
      "train --- mean 0.00000, std: 1.00 target mean:  0.49683544303797467\n",
      "test --- mean -0.00000, std: 1.00 target mean:  0.51\n"
     ]
    }
   ],
   "source": [
    "# load data as numpy\n",
    "train_input, test_input, train_target, test_target = helpers.get_data_as_numpy(HD_SIGNAL, CRIT)\n",
    "# normalise the data\n",
    "train_input = helpers.normalize_data(train_input)\n",
    "test_input = helpers.normalize_data(test_input)\n",
    "\n",
    "### Data augmentation\n",
    "# Do we want noised data augmentation?\n",
    "if noise_DA == True:\n",
    "    train_input, train_target = helpers.noise_DA(my_input, my_target, std=1/2)\n",
    "\n",
    "# subsamplig data augmentation?\n",
    "if subsampling_DA == True:\n",
    "    train_input, train_target = helpers.from_numpy_to_torch(train_input, train_target, CRIT)\n",
    "    test_input, test_target = helpers.from_numpy_to_torch(test_input, test_target, CRIT)\n",
    "    \n",
    "    train_input, train_target = helpers.subsampling_DA(train_input, train_target)\n",
    "    test_input, test_target = helpers.subsampling_DA(test_input, test_target)\n",
    "    \n",
    "    train_input, train_target = train_input.data.numpy(), train_target.data.numpy()\n",
    "    test_input, test_target = test_input.data.numpy(), test_target.data.numpy()\n",
    "\n",
    "# K-fold cross validation\n",
    "if n_splits_K_fold>1:\n",
    "    train_indices, test_indices = helpers.cross_validation(train_input, train_target,n_splits_K_fold)\n",
    "\n",
    "# convert numpy to Variables\n",
    "train_input, train_target = helpers.from_numpy_to_torch(train_input, train_target, CRIT)\n",
    "test_input, test_target = helpers.from_numpy_to_torch(test_input, test_target, CRIT)\n",
    "\n",
    "# final check\n",
    "\n",
    "helpers.final_check(train_input,train_target,test_input,test_target)"
   ]
  },
  {
   "cell_type": "markdown",
   "metadata": {},
   "source": [
    "### Baseline:"
   ]
  },
  {
   "cell_type": "code",
   "execution_count": 131,
   "metadata": {
    "scrolled": false
   },
   "outputs": [
    {
     "name": "stdout",
     "output_type": "stream",
     "text": [
      "--------------  SVM BASELINE -----------------\n",
      "47.0 %\n",
      "--------------  KNN BASELINE -----------------\n",
      "44.0 %\n"
     ]
    }
   ],
   "source": [
    "# not with subsampling_DA\n",
    "\n",
    "helpers.lousy_baselines(train_input = train_input, train_target=train_target,\\\n",
    "                         test_input = test_input, test_target = test_target,\\\n",
    "                         with_pca = False, nb_channels_pca = 10)"
   ]
  },
  {
   "cell_type": "markdown",
   "metadata": {},
   "source": [
    "### Helper Functions:"
   ]
  },
  {
   "cell_type": "code",
   "execution_count": 96,
   "metadata": {
    "collapsed": true
   },
   "outputs": [],
   "source": [
    "def compute_nb_errors(model, data_input, data_target, mini_batch_size, signal_length,Conv2D=False):\n",
    "    \n",
    "    if Conv2D == True:\n",
    "        data_input = Variable(torch.unsqueeze(data_input.data,1))\n",
    "    nb_errors = 0\n",
    "    for i in range(0, data_input.size(0)):\n",
    "        model.train(False)\n",
    "        if model.training == False:\n",
    "            if Conv2D == True:\n",
    "                output = model.forward(data_input[i].view(1,1,28,signal_length))\n",
    "            else:\n",
    "                output = model.forward(data_input[i].view(1,28,signal_length))\n",
    "        else : print('DROPING OUT IN TESTING')\n",
    "        _, predicted = torch.max(output.data, 1)                            \n",
    "        true_val = data_target.data[i]\n",
    "        if CRIT == 'MSE':\n",
    "            true_val = true_val[0]\n",
    "        predicted = predicted[0]\n",
    "        if (true_val != predicted[0]):\n",
    "            nb_errors += 1\n",
    "    return nb_errors"
   ]
  },
  {
   "cell_type": "code",
   "execution_count": 99,
   "metadata": {
    "collapsed": true
   },
   "outputs": [],
   "source": [
    "def train_model(model, train_input, train_target,test_input, test_target, mini_batch_size,\\\n",
    "                verbose=False, Conv2D = False):  \n",
    "    # initialise weight\n",
    "    #weights_init(model)\n",
    "    #model.apply(weights_init)\n",
    "    \n",
    "    #optimizer = torch.optim.SGD(model.parameters(), lr = eta)\n",
    "    optimizer = torch.optim.Adam(model.parameters(), lr=eta, weight_decay=0.001)\n",
    "    #optimizer = optim.SGD(model.parameters(), lr=0.001, momentum=0.4)\n",
    "    \n",
    "    if Conv2D == True:\n",
    "        print('converted for conv2d')\n",
    "        train_input = Variable(torch.unsqueeze(train_input.data,1))\n",
    "        #train_target = Variable(torch.unsqueeze(train_target.data,1),requires_grad=True)\n",
    "    \n",
    "    train_list = []\n",
    "    test_list  = []\n",
    "    for e in trange(epochs):\n",
    "    #for e in range(epochs):       \n",
    "        train_input, train_target = helpers.shuffle_data(input_=train_input, target_=train_target)\n",
    "        for b in range(0, train_input.size(0), mini_batch_size):\n",
    "            model.train(True)\n",
    "            if model.training == True:\n",
    "                output = model.forward(train_input[b:b+mini_batch_size])\n",
    "            else : print('NOT TRAINING')\n",
    "            #print('output size: ', output.size()) \n",
    "            #print('target size: ', train_target[b:b+mini_batch_size].size())\n",
    "            #print( output)\n",
    "            #print(train_target[b:b+mini_batch_size])\n",
    "            loss = criterion(output, train_target[b:b+mini_batch_size])\n",
    "            model.zero_grad()\n",
    "            loss.backward()\n",
    "            optimizer.step()\n",
    "\n",
    "        if (e%10==0):\n",
    "            train_errors = compute_nb_errors(model, data_input=train_input, data_target=train_target,\\\n",
    "                                             mini_batch_size= mini_batch_size,signal_length=SIGNAL_LENGTH,\\\n",
    "                                            Conv2D=Conv2D)\n",
    "            test_errors = compute_nb_errors(model, data_input=test_input, data_target=test_target,\\\n",
    "                                           mini_batch_size = mini_batch_size,signal_length=SIGNAL_LENGTH,\\\n",
    "                                           Conv2D=Conv2D)\n",
    "            train_list.append(train_errors)\n",
    "            test_list.append(test_errors)\n",
    "            if verbose == True:\n",
    "                print('epoch #',e,\\\n",
    "                      'Train: {:0.2f}%'.format( train_errors/train_input.size(0)*100),\\\n",
    "                      'Val:  {:0.2f}%'.format(test_errors / test_input.size(0)*100),\\\n",
    "                      )\n",
    "            #print('Loss:  {:0.5f} '.format(loss.data[0]))\n",
    "    return train_list, test_list\n",
    "\n",
    "            "
   ]
  },
  {
   "cell_type": "markdown",
   "metadata": {},
   "source": [
    "### Parameters: "
   ]
  },
  {
   "cell_type": "code",
   "execution_count": 160,
   "metadata": {
    "collapsed": true
   },
   "outputs": [],
   "source": [
    "mini_batch_size = 15\n",
    "epochs = 400\n",
    "\n",
    "eta = 0.001\n",
    "\n",
    "if CRIT == 'MSE':\n",
    "    criterion = nn.MSELoss()\n",
    "elif CRIT == 'cross':\n",
    "    criterion = nn.CrossEntropyLoss()\n",
    "\n"
   ]
  },
  {
   "cell_type": "markdown",
   "metadata": {},
   "source": [
    "# Testing Zone:"
   ]
  },
  {
   "cell_type": "code",
   "execution_count": 161,
   "metadata": {},
   "outputs": [
    {
     "name": "stdout",
     "output_type": "stream",
     "text": [
      "create_net_seq\n"
     ]
    }
   ],
   "source": [
    "#model_list = [create_model_1, create_net_seq]\n",
    "# for m in model_list:\n",
    "\n",
    "def create_net_seq(num = 2, nl='relu'):\n",
    "    if num == 0:\n",
    "        return lm.Net_seq(nl=nl)\n",
    "    elif num == 1:\n",
    "        if dil_10 == True:\n",
    "            return lm.DilatedNet(nl=nl,length_signal = 500)\n",
    "        else :\n",
    "            return lm.DilatedNet(nl=nl)\n",
    "    elif num == 2:\n",
    "        return lm.DilatedNet2(nl=nl,length_signal = 500)\n",
    "    elif num == 3:\n",
    "        return lm.DilatedNet3(nl=nl,length_signal = 500)\n",
    "    elif num == 4:\n",
    "        return lm.DilatedNet4(nl=nl,length_signal = 500)\n",
    "    elif num==10:\n",
    "        return ant.MyNet(True)\n",
    "    elif num == 11:\n",
    "        return ant.MyNetDA(True)\n",
    "    \n",
    "ant_2d_models = [10,11]\n",
    "    \n",
    "\n",
    "m = create_net_seq\n",
    "print(m.__name__)\n",
    "\n",
    "\n",
    "\n",
    "########################3 model  ###############\n",
    "num_model = 2\n",
    "\n",
    "\n",
    "Conv2D = False\n",
    "if num_model in ant_2d_models:     \n",
    "    Conv2D = True           "
   ]
  },
  {
   "cell_type": "code",
   "execution_count": 162,
   "metadata": {},
   "outputs": [
    {
     "name": "stdout",
     "output_type": "stream",
     "text": [
      "False\n"
     ]
    }
   ],
   "source": [
    "print(Conv2D)"
   ]
  },
  {
   "cell_type": "code",
   "execution_count": 163,
   "metadata": {
    "scrolled": true
   },
   "outputs": [
    {
     "name": "stderr",
     "output_type": "stream",
     "text": [
      "\n",
      "  0%|          | 0/400 [00:00<?, ?it/s]\u001b[A\n",
      "  0%|          | 1/400 [00:01<11:09,  1.68s/it]\u001b[A"
     ]
    },
    {
     "name": "stdout",
     "output_type": "stream",
     "text": [
      "epoch # 0 Train: 50.00% Val:  49.37%\n"
     ]
    },
    {
     "name": "stderr",
     "output_type": "stream",
     "text": [
      "\n",
      "  0%|          | 2/400 [00:02<08:18,  1.25s/it]\u001b[A\n",
      "  1%|          | 3/400 [00:03<07:32,  1.14s/it]\u001b[A\n",
      "  1%|          | 4/400 [00:04<06:57,  1.06s/it]\u001b[A\n",
      "  1%|▏         | 5/400 [00:05<06:43,  1.02s/it]\u001b[A\n",
      "  2%|▏         | 6/400 [00:06<06:47,  1.03s/it]\u001b[A\n",
      "  2%|▏         | 7/400 [00:06<06:30,  1.01it/s]\u001b[A\n",
      "  2%|▏         | 8/400 [00:08<06:36,  1.01s/it]\u001b[A\n",
      "  2%|▏         | 9/400 [00:08<06:27,  1.01it/s]\u001b[A\n",
      "Exception in thread Thread-73:\n",
      "Traceback (most recent call last):\n",
      "  File \"/home/zampieri/anaconda3/lib/python3.6/threading.py\", line 916, in _bootstrap_inner\n",
      "    self.run()\n",
      "  File \"/home/zampieri/anaconda3/lib/python3.6/site-packages/tqdm/_tqdm.py\", line 144, in run\n",
      "    for instance in self.tqdm_cls._instances:\n",
      "  File \"/home/zampieri/anaconda3/lib/python3.6/_weakrefset.py\", line 60, in __iter__\n",
      "    for itemref in self.data:\n",
      "RuntimeError: Set changed size during iteration\n",
      "\n",
      "  3%|▎         | 11/400 [00:11<06:39,  1.03s/it]"
     ]
    },
    {
     "name": "stdout",
     "output_type": "stream",
     "text": [
      "epoch # 10 Train: 18.35% Val:  43.67%\n"
     ]
    },
    {
     "name": "stderr",
     "output_type": "stream",
     "text": [
      "  5%|▌         | 21/400 [00:21<06:22,  1.01s/it]"
     ]
    },
    {
     "name": "stdout",
     "output_type": "stream",
     "text": [
      "epoch # 20 Train: 10.13% Val:  43.67%\n"
     ]
    },
    {
     "name": "stderr",
     "output_type": "stream",
     "text": [
      "  8%|▊         | 31/400 [00:30<06:06,  1.01it/s]"
     ]
    },
    {
     "name": "stdout",
     "output_type": "stream",
     "text": [
      "epoch # 30 Train: 3.16% Val:  42.41%\n"
     ]
    },
    {
     "name": "stderr",
     "output_type": "stream",
     "text": [
      " 10%|█         | 41/400 [00:39<05:44,  1.04it/s]"
     ]
    },
    {
     "name": "stdout",
     "output_type": "stream",
     "text": [
      "epoch # 40 Train: 2.53% Val:  37.97%\n"
     ]
    },
    {
     "name": "stderr",
     "output_type": "stream",
     "text": [
      " 13%|█▎        | 51/400 [00:55<06:16,  1.08s/it]"
     ]
    },
    {
     "name": "stdout",
     "output_type": "stream",
     "text": [
      "epoch # 50 Train: 4.43% Val:  36.08%\n"
     ]
    },
    {
     "name": "stderr",
     "output_type": "stream",
     "text": [
      " 15%|█▌        | 61/400 [01:04<05:55,  1.05s/it]"
     ]
    },
    {
     "name": "stdout",
     "output_type": "stream",
     "text": [
      "epoch # 60 Train: 0.00% Val:  37.97%\n"
     ]
    },
    {
     "name": "stderr",
     "output_type": "stream",
     "text": [
      " 18%|█▊        | 71/400 [01:13<05:38,  1.03s/it]"
     ]
    },
    {
     "name": "stdout",
     "output_type": "stream",
     "text": [
      "epoch # 70 Train: 0.00% Val:  37.97%\n"
     ]
    },
    {
     "name": "stderr",
     "output_type": "stream",
     "text": [
      " 20%|██        | 81/400 [01:21<05:21,  1.01s/it]"
     ]
    },
    {
     "name": "stdout",
     "output_type": "stream",
     "text": [
      "epoch # 80 Train: 1.90% Val:  37.97%\n"
     ]
    },
    {
     "name": "stderr",
     "output_type": "stream",
     "text": [
      " 23%|██▎       | 91/400 [01:31<05:09,  1.00s/it]"
     ]
    },
    {
     "name": "stdout",
     "output_type": "stream",
     "text": [
      "epoch # 90 Train: 1.90% Val:  37.34%\n"
     ]
    },
    {
     "name": "stderr",
     "output_type": "stream",
     "text": [
      " 25%|██▌       | 101/400 [01:39<04:53,  1.02it/s]"
     ]
    },
    {
     "name": "stdout",
     "output_type": "stream",
     "text": [
      "epoch # 100 Train: 0.00% Val:  34.81%\n"
     ]
    },
    {
     "name": "stderr",
     "output_type": "stream",
     "text": [
      " 28%|██▊       | 111/400 [01:48<04:42,  1.02it/s]"
     ]
    },
    {
     "name": "stdout",
     "output_type": "stream",
     "text": [
      "epoch # 110 Train: 3.16% Val:  36.08%\n"
     ]
    },
    {
     "name": "stderr",
     "output_type": "stream",
     "text": [
      " 30%|███       | 121/400 [01:57<04:30,  1.03it/s]"
     ]
    },
    {
     "name": "stdout",
     "output_type": "stream",
     "text": [
      "epoch # 120 Train: 1.27% Val:  32.28%\n"
     ]
    },
    {
     "name": "stderr",
     "output_type": "stream",
     "text": [
      " 33%|███▎      | 131/400 [02:06<04:20,  1.03it/s]"
     ]
    },
    {
     "name": "stdout",
     "output_type": "stream",
     "text": [
      "epoch # 130 Train: 0.00% Val:  34.18%\n"
     ]
    },
    {
     "name": "stderr",
     "output_type": "stream",
     "text": [
      " 35%|███▌      | 141/400 [02:14<04:07,  1.05it/s]"
     ]
    },
    {
     "name": "stdout",
     "output_type": "stream",
     "text": [
      "epoch # 140 Train: 0.63% Val:  34.18%\n"
     ]
    },
    {
     "name": "stderr",
     "output_type": "stream",
     "text": [
      " 38%|███▊      | 151/400 [02:22<03:55,  1.06it/s]"
     ]
    },
    {
     "name": "stdout",
     "output_type": "stream",
     "text": [
      "epoch # 150 Train: 0.63% Val:  36.08%\n"
     ]
    },
    {
     "name": "stderr",
     "output_type": "stream",
     "text": [
      " 40%|████      | 161/400 [02:30<03:43,  1.07it/s]"
     ]
    },
    {
     "name": "stdout",
     "output_type": "stream",
     "text": [
      "epoch # 160 Train: 0.00% Val:  32.28%\n"
     ]
    },
    {
     "name": "stderr",
     "output_type": "stream",
     "text": [
      " 43%|████▎     | 171/400 [02:38<03:32,  1.08it/s]"
     ]
    },
    {
     "name": "stdout",
     "output_type": "stream",
     "text": [
      "epoch # 170 Train: 1.27% Val:  31.65%\n"
     ]
    },
    {
     "name": "stderr",
     "output_type": "stream",
     "text": [
      " 45%|████▌     | 181/400 [02:47<03:22,  1.08it/s]"
     ]
    },
    {
     "name": "stdout",
     "output_type": "stream",
     "text": [
      "epoch # 180 Train: 0.00% Val:  37.97%\n"
     ]
    },
    {
     "name": "stderr",
     "output_type": "stream",
     "text": [
      " 48%|████▊     | 191/400 [02:56<03:12,  1.08it/s]"
     ]
    },
    {
     "name": "stdout",
     "output_type": "stream",
     "text": [
      "epoch # 190 Train: 0.00% Val:  34.81%\n"
     ]
    },
    {
     "name": "stderr",
     "output_type": "stream",
     "text": [
      " 50%|█████     | 201/400 [03:06<03:04,  1.08it/s]"
     ]
    },
    {
     "name": "stdout",
     "output_type": "stream",
     "text": [
      "epoch # 200 Train: 0.00% Val:  31.01%\n"
     ]
    },
    {
     "name": "stderr",
     "output_type": "stream",
     "text": [
      " 53%|█████▎    | 211/400 [03:15<02:54,  1.08it/s]"
     ]
    },
    {
     "name": "stdout",
     "output_type": "stream",
     "text": [
      "epoch # 210 Train: 0.00% Val:  31.65%\n"
     ]
    },
    {
     "name": "stderr",
     "output_type": "stream",
     "text": [
      " 55%|█████▌    | 221/400 [03:24<02:45,  1.08it/s]"
     ]
    },
    {
     "name": "stdout",
     "output_type": "stream",
     "text": [
      "epoch # 220 Train: 0.00% Val:  34.18%\n"
     ]
    },
    {
     "name": "stderr",
     "output_type": "stream",
     "text": [
      " 58%|█████▊    | 231/400 [03:33<02:35,  1.08it/s]"
     ]
    },
    {
     "name": "stdout",
     "output_type": "stream",
     "text": [
      "epoch # 230 Train: 0.00% Val:  31.65%\n"
     ]
    },
    {
     "name": "stderr",
     "output_type": "stream",
     "text": [
      " 60%|██████    | 241/400 [03:41<02:26,  1.09it/s]"
     ]
    },
    {
     "name": "stdout",
     "output_type": "stream",
     "text": [
      "epoch # 240 Train: 0.00% Val:  29.75%\n"
     ]
    },
    {
     "name": "stderr",
     "output_type": "stream",
     "text": [
      " 63%|██████▎   | 251/400 [03:50<02:16,  1.09it/s]"
     ]
    },
    {
     "name": "stdout",
     "output_type": "stream",
     "text": [
      "epoch # 250 Train: 0.00% Val:  31.01%\n"
     ]
    },
    {
     "name": "stderr",
     "output_type": "stream",
     "text": [
      " 65%|██████▌   | 261/400 [04:00<02:07,  1.09it/s]"
     ]
    },
    {
     "name": "stdout",
     "output_type": "stream",
     "text": [
      "epoch # 260 Train: 0.63% Val:  30.38%\n"
     ]
    },
    {
     "name": "stderr",
     "output_type": "stream",
     "text": [
      " 68%|██████▊   | 271/400 [04:09<01:58,  1.09it/s]"
     ]
    },
    {
     "name": "stdout",
     "output_type": "stream",
     "text": [
      "epoch # 270 Train: 0.00% Val:  30.38%\n"
     ]
    },
    {
     "name": "stderr",
     "output_type": "stream",
     "text": [
      " 70%|███████   | 281/400 [04:18<01:49,  1.09it/s]"
     ]
    },
    {
     "name": "stdout",
     "output_type": "stream",
     "text": [
      "epoch # 280 Train: 0.00% Val:  31.65%\n"
     ]
    },
    {
     "name": "stderr",
     "output_type": "stream",
     "text": [
      " 73%|███████▎  | 291/400 [04:27<01:40,  1.09it/s]"
     ]
    },
    {
     "name": "stdout",
     "output_type": "stream",
     "text": [
      "epoch # 290 Train: 0.00% Val:  32.91%\n"
     ]
    },
    {
     "name": "stderr",
     "output_type": "stream",
     "text": [
      " 75%|███████▌  | 301/400 [04:36<01:30,  1.09it/s]"
     ]
    },
    {
     "name": "stdout",
     "output_type": "stream",
     "text": [
      "epoch # 300 Train: 0.00% Val:  27.22%\n"
     ]
    },
    {
     "name": "stderr",
     "output_type": "stream",
     "text": [
      " 78%|███████▊  | 311/400 [04:45<01:21,  1.09it/s]"
     ]
    },
    {
     "name": "stdout",
     "output_type": "stream",
     "text": [
      "epoch # 310 Train: 0.63% Val:  27.85%\n"
     ]
    },
    {
     "name": "stderr",
     "output_type": "stream",
     "text": [
      " 80%|████████  | 321/400 [04:53<01:12,  1.09it/s]"
     ]
    },
    {
     "name": "stdout",
     "output_type": "stream",
     "text": [
      "epoch # 320 Train: 0.63% Val:  33.54%\n"
     ]
    },
    {
     "name": "stderr",
     "output_type": "stream",
     "text": [
      " 83%|████████▎ | 331/400 [05:02<01:02,  1.10it/s]"
     ]
    },
    {
     "name": "stdout",
     "output_type": "stream",
     "text": [
      "epoch # 330 Train: 0.00% Val:  28.48%\n"
     ]
    },
    {
     "name": "stderr",
     "output_type": "stream",
     "text": [
      " 85%|████████▌ | 341/400 [05:11<00:53,  1.09it/s]"
     ]
    },
    {
     "name": "stdout",
     "output_type": "stream",
     "text": [
      "epoch # 340 Train: 0.00% Val:  27.22%\n"
     ]
    },
    {
     "name": "stderr",
     "output_type": "stream",
     "text": [
      " 88%|████████▊ | 351/400 [05:20<00:44,  1.10it/s]"
     ]
    },
    {
     "name": "stdout",
     "output_type": "stream",
     "text": [
      "epoch # 350 Train: 0.00% Val:  27.85%\n"
     ]
    },
    {
     "name": "stderr",
     "output_type": "stream",
     "text": [
      " 90%|█████████ | 361/400 [05:29<00:35,  1.09it/s]"
     ]
    },
    {
     "name": "stdout",
     "output_type": "stream",
     "text": [
      "epoch # 360 Train: 0.00% Val:  34.18%\n"
     ]
    },
    {
     "name": "stderr",
     "output_type": "stream",
     "text": [
      " 93%|█████████▎| 371/400 [05:38<00:26,  1.10it/s]"
     ]
    },
    {
     "name": "stdout",
     "output_type": "stream",
     "text": [
      "epoch # 370 Train: 0.00% Val:  25.32%\n"
     ]
    },
    {
     "name": "stderr",
     "output_type": "stream",
     "text": [
      " 95%|█████████▌| 381/400 [05:46<00:17,  1.10it/s]"
     ]
    },
    {
     "name": "stdout",
     "output_type": "stream",
     "text": [
      "epoch # 380 Train: 1.27% Val:  30.38%\n"
     ]
    },
    {
     "name": "stderr",
     "output_type": "stream",
     "text": [
      " 98%|█████████▊| 391/400 [05:55<00:08,  1.10it/s]"
     ]
    },
    {
     "name": "stdout",
     "output_type": "stream",
     "text": [
      "epoch # 390 Train: 0.00% Val:  28.48%\n"
     ]
    },
    {
     "name": "stderr",
     "output_type": "stream",
     "text": [
      "100%|██████████| 400/400 [06:02<00:00,  1.10it/s]\n",
      "  0%|          | 0/400 [00:00<?, ?it/s]"
     ]
    },
    {
     "name": "stdout",
     "output_type": "stream",
     "text": [
      "40 40\n"
     ]
    },
    {
     "name": "stderr",
     "output_type": "stream",
     "text": [
      "\r",
      "  0%|          | 1/400 [00:01<08:50,  1.33s/it]"
     ]
    },
    {
     "name": "stdout",
     "output_type": "stream",
     "text": [
      "epoch # 0 Train: 48.10% Val:  52.53%\n"
     ]
    },
    {
     "name": "stderr",
     "output_type": "stream",
     "text": [
      "  3%|▎         | 11/400 [00:09<05:25,  1.19it/s]"
     ]
    },
    {
     "name": "stdout",
     "output_type": "stream",
     "text": [
      "epoch # 10 Train: 17.09% Val:  47.47%\n"
     ]
    },
    {
     "name": "stderr",
     "output_type": "stream",
     "text": [
      "  5%|▌         | 21/400 [00:17<05:15,  1.20it/s]"
     ]
    },
    {
     "name": "stdout",
     "output_type": "stream",
     "text": [
      "epoch # 20 Train: 12.03% Val:  39.87%\n"
     ]
    },
    {
     "name": "stderr",
     "output_type": "stream",
     "text": [
      "  8%|▊         | 31/400 [00:24<04:56,  1.25it/s]"
     ]
    },
    {
     "name": "stdout",
     "output_type": "stream",
     "text": [
      "epoch # 30 Train: 4.43% Val:  33.54%\n"
     ]
    },
    {
     "name": "stderr",
     "output_type": "stream",
     "text": [
      " 10%|█         | 41/400 [00:32<04:42,  1.27it/s]"
     ]
    },
    {
     "name": "stdout",
     "output_type": "stream",
     "text": [
      "epoch # 40 Train: 10.76% Val:  33.54%\n"
     ]
    },
    {
     "name": "stderr",
     "output_type": "stream",
     "text": [
      " 13%|█▎        | 51/400 [00:39<04:32,  1.28it/s]"
     ]
    },
    {
     "name": "stdout",
     "output_type": "stream",
     "text": [
      "epoch # 50 Train: 1.90% Val:  32.91%\n"
     ]
    },
    {
     "name": "stderr",
     "output_type": "stream",
     "text": [
      " 15%|█▌        | 61/400 [00:48<04:30,  1.25it/s]"
     ]
    },
    {
     "name": "stdout",
     "output_type": "stream",
     "text": [
      "epoch # 60 Train: 8.86% Val:  36.71%\n"
     ]
    },
    {
     "name": "stderr",
     "output_type": "stream",
     "text": [
      " 18%|█▊        | 71/400 [01:03<04:54,  1.12it/s]"
     ]
    },
    {
     "name": "stdout",
     "output_type": "stream",
     "text": [
      "epoch # 70 Train: 1.90% Val:  34.18%\n"
     ]
    },
    {
     "name": "stderr",
     "output_type": "stream",
     "text": [
      " 20%|██        | 81/400 [01:18<05:10,  1.03it/s]"
     ]
    },
    {
     "name": "stdout",
     "output_type": "stream",
     "text": [
      "epoch # 80 Train: 0.00% Val:  28.48%\n"
     ]
    },
    {
     "name": "stderr",
     "output_type": "stream",
     "text": [
      " 23%|██▎       | 91/400 [01:32<05:12,  1.01s/it]"
     ]
    },
    {
     "name": "stdout",
     "output_type": "stream",
     "text": [
      "epoch # 90 Train: 0.00% Val:  29.11%\n"
     ]
    },
    {
     "name": "stderr",
     "output_type": "stream",
     "text": [
      " 25%|██▌       | 101/400 [01:42<05:04,  1.02s/it]"
     ]
    },
    {
     "name": "stdout",
     "output_type": "stream",
     "text": [
      "epoch # 100 Train: 0.00% Val:  25.32%\n"
     ]
    },
    {
     "name": "stderr",
     "output_type": "stream",
     "text": [
      " 28%|██▊       | 111/400 [01:52<04:53,  1.02s/it]"
     ]
    },
    {
     "name": "stdout",
     "output_type": "stream",
     "text": [
      "epoch # 110 Train: 0.00% Val:  27.85%\n"
     ]
    },
    {
     "name": "stderr",
     "output_type": "stream",
     "text": [
      " 30%|███       | 121/400 [02:02<04:43,  1.02s/it]"
     ]
    },
    {
     "name": "stdout",
     "output_type": "stream",
     "text": [
      "epoch # 120 Train: 0.63% Val:  25.32%\n"
     ]
    },
    {
     "name": "stderr",
     "output_type": "stream",
     "text": [
      " 33%|███▎      | 131/400 [02:13<04:34,  1.02s/it]"
     ]
    },
    {
     "name": "stdout",
     "output_type": "stream",
     "text": [
      "epoch # 130 Train: 1.27% Val:  24.68%\n"
     ]
    },
    {
     "name": "stderr",
     "output_type": "stream",
     "text": [
      " 35%|███▌      | 141/400 [02:24<04:26,  1.03s/it]"
     ]
    },
    {
     "name": "stdout",
     "output_type": "stream",
     "text": [
      "epoch # 140 Train: 1.27% Val:  29.75%\n"
     ]
    },
    {
     "name": "stderr",
     "output_type": "stream",
     "text": [
      " 38%|███▊      | 151/400 [02:33<04:13,  1.02s/it]"
     ]
    },
    {
     "name": "stdout",
     "output_type": "stream",
     "text": [
      "epoch # 150 Train: 5.70% Val:  25.32%\n"
     ]
    },
    {
     "name": "stderr",
     "output_type": "stream",
     "text": [
      " 40%|████      | 161/400 [02:43<04:02,  1.01s/it]"
     ]
    },
    {
     "name": "stdout",
     "output_type": "stream",
     "text": [
      "epoch # 160 Train: 0.00% Val:  24.68%\n"
     ]
    },
    {
     "name": "stderr",
     "output_type": "stream",
     "text": [
      " 43%|████▎     | 171/400 [02:51<03:49,  1.00s/it]"
     ]
    },
    {
     "name": "stdout",
     "output_type": "stream",
     "text": [
      "epoch # 170 Train: 0.00% Val:  25.32%\n"
     ]
    },
    {
     "name": "stderr",
     "output_type": "stream",
     "text": [
      " 45%|████▌     | 181/400 [03:01<03:39,  1.00s/it]"
     ]
    },
    {
     "name": "stdout",
     "output_type": "stream",
     "text": [
      "epoch # 180 Train: 0.00% Val:  24.68%\n"
     ]
    },
    {
     "name": "stderr",
     "output_type": "stream",
     "text": [
      " 48%|████▊     | 191/400 [03:10<03:27,  1.01it/s]"
     ]
    },
    {
     "name": "stdout",
     "output_type": "stream",
     "text": [
      "epoch # 190 Train: 1.90% Val:  30.38%\n"
     ]
    },
    {
     "name": "stderr",
     "output_type": "stream",
     "text": [
      " 50%|█████     | 201/400 [03:19<03:17,  1.01it/s]"
     ]
    },
    {
     "name": "stdout",
     "output_type": "stream",
     "text": [
      "epoch # 200 Train: 0.63% Val:  26.58%\n"
     ]
    },
    {
     "name": "stderr",
     "output_type": "stream",
     "text": [
      " 53%|█████▎    | 211/400 [03:27<03:05,  1.02it/s]"
     ]
    },
    {
     "name": "stdout",
     "output_type": "stream",
     "text": [
      "epoch # 210 Train: 0.00% Val:  25.95%\n"
     ]
    },
    {
     "name": "stderr",
     "output_type": "stream",
     "text": [
      " 55%|█████▌    | 221/400 [03:36<02:55,  1.02it/s]"
     ]
    },
    {
     "name": "stdout",
     "output_type": "stream",
     "text": [
      "epoch # 220 Train: 0.00% Val:  27.85%\n"
     ]
    },
    {
     "name": "stderr",
     "output_type": "stream",
     "text": [
      " 58%|█████▊    | 231/400 [03:44<02:44,  1.03it/s]"
     ]
    },
    {
     "name": "stdout",
     "output_type": "stream",
     "text": [
      "epoch # 230 Train: 0.00% Val:  25.95%\n"
     ]
    },
    {
     "name": "stderr",
     "output_type": "stream",
     "text": [
      " 60%|██████    | 241/400 [03:53<02:34,  1.03it/s]"
     ]
    },
    {
     "name": "stdout",
     "output_type": "stream",
     "text": [
      "epoch # 240 Train: 0.00% Val:  24.68%\n"
     ]
    },
    {
     "name": "stderr",
     "output_type": "stream",
     "text": [
      " 63%|██████▎   | 251/400 [04:02<02:23,  1.04it/s]"
     ]
    },
    {
     "name": "stdout",
     "output_type": "stream",
     "text": [
      "epoch # 250 Train: 0.00% Val:  24.68%\n"
     ]
    },
    {
     "name": "stderr",
     "output_type": "stream",
     "text": [
      " 65%|██████▌   | 261/400 [04:10<02:13,  1.04it/s]"
     ]
    },
    {
     "name": "stdout",
     "output_type": "stream",
     "text": [
      "epoch # 260 Train: 0.00% Val:  24.68%\n"
     ]
    },
    {
     "name": "stderr",
     "output_type": "stream",
     "text": [
      " 68%|██████▊   | 271/400 [04:18<02:03,  1.05it/s]"
     ]
    },
    {
     "name": "stdout",
     "output_type": "stream",
     "text": [
      "epoch # 270 Train: 0.00% Val:  23.42%\n"
     ]
    },
    {
     "name": "stderr",
     "output_type": "stream",
     "text": [
      " 70%|███████   | 281/400 [04:26<01:52,  1.05it/s]"
     ]
    },
    {
     "name": "stdout",
     "output_type": "stream",
     "text": [
      "epoch # 280 Train: 0.00% Val:  27.85%\n"
     ]
    },
    {
     "name": "stderr",
     "output_type": "stream",
     "text": [
      " 73%|███████▎  | 291/400 [04:35<01:43,  1.06it/s]"
     ]
    },
    {
     "name": "stdout",
     "output_type": "stream",
     "text": [
      "epoch # 290 Train: 0.00% Val:  25.95%\n"
     ]
    },
    {
     "name": "stderr",
     "output_type": "stream",
     "text": [
      " 75%|███████▌  | 301/400 [04:43<01:33,  1.06it/s]"
     ]
    },
    {
     "name": "stdout",
     "output_type": "stream",
     "text": [
      "epoch # 300 Train: 0.00% Val:  25.32%\n"
     ]
    },
    {
     "name": "stderr",
     "output_type": "stream",
     "text": [
      " 78%|███████▊  | 311/400 [04:51<01:23,  1.07it/s]"
     ]
    },
    {
     "name": "stdout",
     "output_type": "stream",
     "text": [
      "epoch # 310 Train: 0.00% Val:  27.85%\n"
     ]
    },
    {
     "name": "stderr",
     "output_type": "stream",
     "text": [
      " 80%|████████  | 321/400 [04:59<01:13,  1.07it/s]"
     ]
    },
    {
     "name": "stdout",
     "output_type": "stream",
     "text": [
      "epoch # 320 Train: 0.00% Val:  27.85%\n"
     ]
    },
    {
     "name": "stderr",
     "output_type": "stream",
     "text": [
      " 83%|████████▎ | 331/400 [05:09<01:04,  1.07it/s]"
     ]
    },
    {
     "name": "stdout",
     "output_type": "stream",
     "text": [
      "epoch # 330 Train: 0.00% Val:  23.42%\n"
     ]
    },
    {
     "name": "stderr",
     "output_type": "stream",
     "text": [
      " 85%|████████▌ | 341/400 [05:17<00:54,  1.08it/s]"
     ]
    },
    {
     "name": "stdout",
     "output_type": "stream",
     "text": [
      "epoch # 340 Train: 0.63% Val:  25.95%\n"
     ]
    },
    {
     "name": "stderr",
     "output_type": "stream",
     "text": [
      " 88%|████████▊ | 351/400 [05:25<00:45,  1.08it/s]"
     ]
    },
    {
     "name": "stdout",
     "output_type": "stream",
     "text": [
      "epoch # 350 Train: 0.00% Val:  20.25%\n"
     ]
    },
    {
     "name": "stderr",
     "output_type": "stream",
     "text": [
      " 90%|█████████ | 361/400 [05:32<00:35,  1.08it/s]"
     ]
    },
    {
     "name": "stdout",
     "output_type": "stream",
     "text": [
      "epoch # 360 Train: 0.00% Val:  29.75%\n"
     ]
    },
    {
     "name": "stderr",
     "output_type": "stream",
     "text": [
      " 93%|█████████▎| 371/400 [05:41<00:26,  1.09it/s]"
     ]
    },
    {
     "name": "stdout",
     "output_type": "stream",
     "text": [
      "epoch # 370 Train: 0.00% Val:  24.05%\n"
     ]
    },
    {
     "name": "stderr",
     "output_type": "stream",
     "text": [
      " 95%|█████████▌| 381/400 [05:49<00:17,  1.09it/s]"
     ]
    },
    {
     "name": "stdout",
     "output_type": "stream",
     "text": [
      "epoch # 380 Train: 0.00% Val:  22.78%\n"
     ]
    },
    {
     "name": "stderr",
     "output_type": "stream",
     "text": [
      " 98%|█████████▊| 391/400 [05:57<00:08,  1.09it/s]"
     ]
    },
    {
     "name": "stdout",
     "output_type": "stream",
     "text": [
      "epoch # 390 Train: 0.00% Val:  22.78%\n"
     ]
    },
    {
     "name": "stderr",
     "output_type": "stream",
     "text": [
      "100%|██████████| 400/400 [06:04<00:00,  1.10it/s]"
     ]
    },
    {
     "name": "stdout",
     "output_type": "stream",
     "text": [
      "40 40\n"
     ]
    },
    {
     "name": "stderr",
     "output_type": "stream",
     "text": [
      "\n"
     ]
    }
   ],
   "source": [
    "train_list_list = []\n",
    "val_list_list   = []\n",
    "train_size_list = []\n",
    "val_size_list   = []\n",
    "if n_splits_K_fold>1:\n",
    "    for train_index, test_index in [train_indices, test_indices]:\n",
    "        ###################### import model #####################\n",
    "        model = m(num_model)\n",
    "        #########################################################\n",
    "        X_train, X_test = train_input.data.numpy()[train_index], train_input.data.numpy()[test_index]\n",
    "        y_train, y_test = train_target.data.numpy()[train_index], train_target.data.numpy()[test_index]\n",
    "        # reconvert them to variables\n",
    "        X_train, y_train = helpers.from_numpy_to_torch(X_train, y_train, CRIT)\n",
    "        X_test, y_test = helpers.from_numpy_to_torch(X_test, y_test, CRIT)\n",
    "\n",
    "        train_list, val_list = train_model(model, train_input=X_train, train_target=y_train,\\\n",
    "                                            test_input = X_test, test_target = y_test,\\\n",
    "                                            mini_batch_size=mini_batch_size,verbose=True, Conv2D = Conv2D)\n",
    "\n",
    "        print(len(train_list),len(val_list))\n",
    "        train_list_list.append(train_list)\n",
    "        val_list_list.append(val_list)\n",
    "        train_size_list.append(X_train.size(0))\n",
    "        val_size_list.append(X_test.size(0))"
   ]
  },
  {
   "cell_type": "code",
   "execution_count": null,
   "metadata": {
    "collapsed": true
   },
   "outputs": [],
   "source": []
  },
  {
   "cell_type": "code",
   "execution_count": 164,
   "metadata": {
    "scrolled": true
   },
   "outputs": [
    {
     "name": "stderr",
     "output_type": "stream",
     "text": [
      "  0%|          | 1/400 [00:02<13:57,  2.10s/it]"
     ]
    },
    {
     "name": "stdout",
     "output_type": "stream",
     "text": [
      "epoch # 0 Train: 50.00% Val:  57.00%\n"
     ]
    },
    {
     "name": "stderr",
     "output_type": "stream",
     "text": [
      "  3%|▎         | 11/400 [00:17<10:12,  1.58s/it]"
     ]
    },
    {
     "name": "stdout",
     "output_type": "stream",
     "text": [
      "epoch # 10 Train: 34.49% Val:  43.00%\n"
     ]
    },
    {
     "name": "stderr",
     "output_type": "stream",
     "text": [
      "  5%|▌         | 21/400 [00:33<09:58,  1.58s/it]"
     ]
    },
    {
     "name": "stdout",
     "output_type": "stream",
     "text": [
      "epoch # 20 Train: 23.73% Val:  37.00%\n"
     ]
    },
    {
     "name": "stderr",
     "output_type": "stream",
     "text": [
      "  8%|▊         | 31/400 [00:49<09:44,  1.58s/it]"
     ]
    },
    {
     "name": "stdout",
     "output_type": "stream",
     "text": [
      "epoch # 30 Train: 22.47% Val:  41.00%\n"
     ]
    },
    {
     "name": "stderr",
     "output_type": "stream",
     "text": [
      " 10%|█         | 41/400 [01:05<09:34,  1.60s/it]"
     ]
    },
    {
     "name": "stdout",
     "output_type": "stream",
     "text": [
      "epoch # 40 Train: 15.51% Val:  36.00%\n"
     ]
    },
    {
     "name": "stderr",
     "output_type": "stream",
     "text": [
      " 13%|█▎        | 51/400 [01:22<09:27,  1.63s/it]"
     ]
    },
    {
     "name": "stdout",
     "output_type": "stream",
     "text": [
      "epoch # 50 Train: 9.49% Val:  31.00%\n"
     ]
    },
    {
     "name": "stderr",
     "output_type": "stream",
     "text": [
      " 15%|█▌        | 61/400 [01:39<09:11,  1.63s/it]"
     ]
    },
    {
     "name": "stdout",
     "output_type": "stream",
     "text": [
      "epoch # 60 Train: 6.01% Val:  27.00%\n"
     ]
    },
    {
     "name": "stderr",
     "output_type": "stream",
     "text": [
      " 18%|█▊        | 71/400 [01:54<08:51,  1.62s/it]"
     ]
    },
    {
     "name": "stdout",
     "output_type": "stream",
     "text": [
      "epoch # 70 Train: 6.33% Val:  31.00%\n"
     ]
    },
    {
     "name": "stderr",
     "output_type": "stream",
     "text": [
      " 20%|██        | 81/400 [02:10<08:32,  1.61s/it]"
     ]
    },
    {
     "name": "stdout",
     "output_type": "stream",
     "text": [
      "epoch # 80 Train: 1.90% Val:  26.00%\n"
     ]
    },
    {
     "name": "stderr",
     "output_type": "stream",
     "text": [
      " 23%|██▎       | 91/400 [02:27<08:20,  1.62s/it]"
     ]
    },
    {
     "name": "stdout",
     "output_type": "stream",
     "text": [
      "epoch # 90 Train: 11.39% Val:  31.00%\n"
     ]
    },
    {
     "name": "stderr",
     "output_type": "stream",
     "text": [
      " 25%|██▌       | 101/400 [02:44<08:06,  1.63s/it]"
     ]
    },
    {
     "name": "stdout",
     "output_type": "stream",
     "text": [
      "epoch # 100 Train: 0.63% Val:  26.00%\n"
     ]
    },
    {
     "name": "stderr",
     "output_type": "stream",
     "text": [
      " 28%|██▊       | 111/400 [02:59<07:48,  1.62s/it]"
     ]
    },
    {
     "name": "stdout",
     "output_type": "stream",
     "text": [
      "epoch # 110 Train: 11.08% Val:  44.00%\n"
     ]
    },
    {
     "name": "stderr",
     "output_type": "stream",
     "text": [
      " 30%|███       | 121/400 [03:16<07:32,  1.62s/it]"
     ]
    },
    {
     "name": "stdout",
     "output_type": "stream",
     "text": [
      "epoch # 120 Train: 4.11% Val:  38.00%\n"
     ]
    },
    {
     "name": "stderr",
     "output_type": "stream",
     "text": [
      " 33%|███▎      | 131/400 [03:31<07:13,  1.61s/it]"
     ]
    },
    {
     "name": "stdout",
     "output_type": "stream",
     "text": [
      "epoch # 130 Train: 0.32% Val:  27.00%\n"
     ]
    },
    {
     "name": "stderr",
     "output_type": "stream",
     "text": [
      " 35%|███▌      | 141/400 [03:46<06:56,  1.61s/it]"
     ]
    },
    {
     "name": "stdout",
     "output_type": "stream",
     "text": [
      "epoch # 140 Train: 0.63% Val:  23.00%\n"
     ]
    },
    {
     "name": "stderr",
     "output_type": "stream",
     "text": [
      " 38%|███▊      | 151/400 [04:05<06:44,  1.62s/it]"
     ]
    },
    {
     "name": "stdout",
     "output_type": "stream",
     "text": [
      "epoch # 150 Train: 0.32% Val:  24.00%\n"
     ]
    },
    {
     "name": "stderr",
     "output_type": "stream",
     "text": [
      " 40%|████      | 161/400 [04:21<06:27,  1.62s/it]"
     ]
    },
    {
     "name": "stdout",
     "output_type": "stream",
     "text": [
      "epoch # 160 Train: 0.63% Val:  27.00%\n"
     ]
    },
    {
     "name": "stderr",
     "output_type": "stream",
     "text": [
      " 43%|████▎     | 171/400 [04:38<06:12,  1.63s/it]"
     ]
    },
    {
     "name": "stdout",
     "output_type": "stream",
     "text": [
      "epoch # 170 Train: 0.95% Val:  26.00%\n"
     ]
    },
    {
     "name": "stderr",
     "output_type": "stream",
     "text": [
      " 45%|████▌     | 181/400 [04:58<06:01,  1.65s/it]"
     ]
    },
    {
     "name": "stdout",
     "output_type": "stream",
     "text": [
      "epoch # 180 Train: 0.00% Val:  25.00%\n"
     ]
    },
    {
     "name": "stderr",
     "output_type": "stream",
     "text": [
      " 48%|████▊     | 191/400 [05:15<05:45,  1.65s/it]"
     ]
    },
    {
     "name": "stdout",
     "output_type": "stream",
     "text": [
      "epoch # 190 Train: 0.00% Val:  24.00%\n"
     ]
    },
    {
     "name": "stderr",
     "output_type": "stream",
     "text": [
      " 50%|█████     | 201/400 [05:31<05:28,  1.65s/it]"
     ]
    },
    {
     "name": "stdout",
     "output_type": "stream",
     "text": [
      "epoch # 200 Train: 0.63% Val:  27.00%\n"
     ]
    },
    {
     "name": "stderr",
     "output_type": "stream",
     "text": [
      " 53%|█████▎    | 211/400 [05:47<05:11,  1.65s/it]"
     ]
    },
    {
     "name": "stdout",
     "output_type": "stream",
     "text": [
      "epoch # 210 Train: 0.00% Val:  28.00%\n"
     ]
    },
    {
     "name": "stderr",
     "output_type": "stream",
     "text": [
      " 55%|█████▌    | 221/400 [06:02<04:53,  1.64s/it]"
     ]
    },
    {
     "name": "stdout",
     "output_type": "stream",
     "text": [
      "epoch # 220 Train: 0.32% Val:  26.00%\n"
     ]
    },
    {
     "name": "stderr",
     "output_type": "stream",
     "text": [
      " 58%|█████▊    | 231/400 [06:17<04:36,  1.64s/it]"
     ]
    },
    {
     "name": "stdout",
     "output_type": "stream",
     "text": [
      "epoch # 230 Train: 0.00% Val:  26.00%\n"
     ]
    },
    {
     "name": "stderr",
     "output_type": "stream",
     "text": [
      " 60%|██████    | 241/400 [06:34<04:20,  1.64s/it]"
     ]
    },
    {
     "name": "stdout",
     "output_type": "stream",
     "text": [
      "epoch # 240 Train: 0.00% Val:  28.00%\n"
     ]
    },
    {
     "name": "stderr",
     "output_type": "stream",
     "text": [
      " 63%|██████▎   | 251/400 [06:50<04:03,  1.63s/it]"
     ]
    },
    {
     "name": "stdout",
     "output_type": "stream",
     "text": [
      "epoch # 250 Train: 1.58% Val:  30.00%\n"
     ]
    },
    {
     "name": "stderr",
     "output_type": "stream",
     "text": [
      " 65%|██████▌   | 261/400 [07:06<03:46,  1.63s/it]"
     ]
    },
    {
     "name": "stdout",
     "output_type": "stream",
     "text": [
      "epoch # 260 Train: 0.32% Val:  28.00%\n"
     ]
    },
    {
     "name": "stderr",
     "output_type": "stream",
     "text": [
      " 68%|██████▊   | 271/400 [07:21<03:30,  1.63s/it]"
     ]
    },
    {
     "name": "stdout",
     "output_type": "stream",
     "text": [
      "epoch # 270 Train: 8.86% Val:  33.00%\n"
     ]
    },
    {
     "name": "stderr",
     "output_type": "stream",
     "text": [
      " 70%|███████   | 281/400 [07:36<03:13,  1.63s/it]"
     ]
    },
    {
     "name": "stdout",
     "output_type": "stream",
     "text": [
      "epoch # 280 Train: 2.22% Val:  28.00%\n"
     ]
    },
    {
     "name": "stderr",
     "output_type": "stream",
     "text": [
      " 73%|███████▎  | 291/400 [07:51<02:56,  1.62s/it]"
     ]
    },
    {
     "name": "stdout",
     "output_type": "stream",
     "text": [
      "epoch # 290 Train: 3.80% Val:  35.00%\n"
     ]
    },
    {
     "name": "stderr",
     "output_type": "stream",
     "text": [
      " 75%|███████▌  | 301/400 [08:07<02:40,  1.62s/it]"
     ]
    },
    {
     "name": "stdout",
     "output_type": "stream",
     "text": [
      "epoch # 300 Train: 0.00% Val:  30.00%\n"
     ]
    },
    {
     "name": "stderr",
     "output_type": "stream",
     "text": [
      " 78%|███████▊  | 311/400 [08:23<02:24,  1.62s/it]"
     ]
    },
    {
     "name": "stdout",
     "output_type": "stream",
     "text": [
      "epoch # 310 Train: 0.63% Val:  30.00%\n"
     ]
    },
    {
     "name": "stderr",
     "output_type": "stream",
     "text": [
      " 80%|████████  | 321/400 [08:38<02:07,  1.62s/it]"
     ]
    },
    {
     "name": "stdout",
     "output_type": "stream",
     "text": [
      "epoch # 320 Train: 0.00% Val:  28.00%\n"
     ]
    },
    {
     "name": "stderr",
     "output_type": "stream",
     "text": [
      " 83%|████████▎ | 331/400 [08:54<01:51,  1.61s/it]"
     ]
    },
    {
     "name": "stdout",
     "output_type": "stream",
     "text": [
      "epoch # 330 Train: 0.63% Val:  31.00%\n"
     ]
    },
    {
     "name": "stderr",
     "output_type": "stream",
     "text": [
      " 85%|████████▌ | 341/400 [09:11<01:35,  1.62s/it]"
     ]
    },
    {
     "name": "stdout",
     "output_type": "stream",
     "text": [
      "epoch # 340 Train: 0.00% Val:  30.00%\n"
     ]
    },
    {
     "name": "stderr",
     "output_type": "stream",
     "text": [
      " 88%|████████▊ | 351/400 [09:26<01:19,  1.62s/it]"
     ]
    },
    {
     "name": "stdout",
     "output_type": "stream",
     "text": [
      "epoch # 350 Train: 0.00% Val:  30.00%\n"
     ]
    },
    {
     "name": "stderr",
     "output_type": "stream",
     "text": [
      " 90%|█████████ | 361/400 [09:42<01:02,  1.61s/it]"
     ]
    },
    {
     "name": "stdout",
     "output_type": "stream",
     "text": [
      "epoch # 360 Train: 1.58% Val:  27.00%\n"
     ]
    },
    {
     "name": "stderr",
     "output_type": "stream",
     "text": [
      " 93%|█████████▎| 371/400 [10:00<00:46,  1.62s/it]"
     ]
    },
    {
     "name": "stdout",
     "output_type": "stream",
     "text": [
      "epoch # 370 Train: 2.22% Val:  28.00%\n"
     ]
    },
    {
     "name": "stderr",
     "output_type": "stream",
     "text": [
      " 95%|█████████▌| 381/400 [10:17<00:30,  1.62s/it]"
     ]
    },
    {
     "name": "stdout",
     "output_type": "stream",
     "text": [
      "epoch # 380 Train: 0.00% Val:  27.00%\n"
     ]
    },
    {
     "name": "stderr",
     "output_type": "stream",
     "text": [
      " 98%|█████████▊| 391/400 [10:35<00:14,  1.63s/it]"
     ]
    },
    {
     "name": "stdout",
     "output_type": "stream",
     "text": [
      "epoch # 390 Train: 0.00% Val:  30.00%\n"
     ]
    },
    {
     "name": "stderr",
     "output_type": "stream",
     "text": [
      "100%|██████████| 400/400 [10:51<00:00,  1.63s/it]\n"
     ]
    }
   ],
   "source": [
    "# test set      \n",
    "model = m(num_model)\n",
    "train_list_complete, test_list_complete = train_model(model, train_input, train_target,\\\n",
    "                                    test_input = test_input, test_target = test_target,\\\n",
    "                                    mini_batch_size=mini_batch_size,verbose=True, Conv2D=Conv2D)"
   ]
  },
  {
   "cell_type": "code",
   "execution_count": 168,
   "metadata": {
    "scrolled": true
   },
   "outputs": [
    {
     "name": "stdout",
     "output_type": "stream",
     "text": [
      "test: 27.00%\n"
     ]
    },
    {
     "data": {
      "image/png": "[encoded data removed]",
      "text/plain": [
       "<matplotlib.figure.Figure at 0x7fe770e742e8>"
      ]
     },
     "metadata": {},
     "output_type": "display_data"
    }
   ],
   "source": [
    "test_errors = compute_nb_errors(model, data_input=test_input, data_target=test_target, mini_batch_size = mini_batch_size,\\\n",
    "                                signal_length = SIGNAL_LENGTH, Conv2D=Conv2D)\n",
    "print('test: {:0.2f}%'.format( test_errors/test_input.size(0)*100) )\n",
    "\n",
    "plot_list(train_list_complete,test_list_complete, train_input.size(0), test_input.size(0))"
   ]
  },
  {
   "cell_type": "code",
   "execution_count": 166,
   "metadata": {
    "collapsed": true,
    "scrolled": true
   },
   "outputs": [],
   "source": [
    "import pickle\n",
    "\n",
    "name = 'dil2(8)_epoch:400_drop:07_hidden:200'\n",
    "pickle.dump( model, open( name + \"_model.p\", \"wb\" ) )\n",
    "pickle.dump( list([train_list_complete, test_list_complete]), open( name+\"_lists.p\", \"wb\" ) )\n",
    "\n"
   ]
  },
  {
   "cell_type": "code",
   "execution_count": 169,
   "metadata": {},
   "outputs": [
    {
     "name": "stdout",
     "output_type": "stream",
     "text": [
      "val: 28.48%\n"
     ]
    },
    {
     "data": {
      "image/png": "[encoded data removed]",
      "text/plain": [
       "<matplotlib.figure.Figure at 0x7fe769600940>"
      ]
     },
     "metadata": {},
     "output_type": "display_data"
    },
    {
     "data": {
      "image/png": "[encoded data removed]",
      "text/plain": [
       "<matplotlib.figure.Figure at 0x7fe7725aba90>"
      ]
     },
     "metadata": {},
     "output_type": "display_data"
    }
   ],
   "source": [
    "#print('test: {:0.2f}%'.format( test_errors/test_input.size(0)*100) )\n",
    "val = np.mean(val_list_list[:][-1])\n",
    "val_input_size = np.mean(val_size_list)\n",
    "print('val: {:0.2f}%'.format( val/val_input_size*100) )\n",
    "\n",
    "def plot_list(train_list,val_list, train_size, val_size):\n",
    "    plt.plot(np.array(train_list)/train_size*100,'b',label='train')\n",
    "    plt.plot(np.array(val_list)/ val_size*100,'r',label='validation')\n",
    "    #plt.plot(np.ones(np.array(train_list).shape)*test_errors/test_input.size(0)*100,'g',label='test')\n",
    "    plt.legend()\n",
    "    plt.grid()\n",
    "    plt.xlabel('#epochs / 10')\n",
    "    plt.ylabel('inaccuracy')\n",
    "    plt.show()\n",
    "\n",
    "for i in range(len(train_list_list)):\n",
    "    plot_list(train_list_list[i],val_list_list[i],train_size_list[i],val_size_list[i])"
   ]
  },
  {
   "cell_type": "code",
   "execution_count": null,
   "metadata": {
    "collapsed": true
   },
   "outputs": [],
   "source": []
  }
 ],
 "metadata": {
  "kernelspec": {
   "display_name": "Python 3",
   "language": "python",
   "name": "python3"
  },
  "language_info": {
   "codemirror_mode": {
    "name": "ipython",
    "version": 3
   },
   "file_extension": ".py",
   "mimetype": "text/x-python",
   "name": "python",
   "nbconvert_exporter": "python",
   "pygments_lexer": "ipython3",
   "version": "3.6.3"
  }
 },
 "nbformat": 4,
 "nbformat_minor": 2
}
